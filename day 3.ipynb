{
 "cells": [
  {
   "cell_type": "markdown",
   "metadata": {},
   "source": [
    "# programming in python with strings\n",
    "-  strings \n",
    "-  string slicing\n",
    "- fundamental programming and example with string \n"
   ]
  },
  {
   "cell_type": "code",
   "execution_count": 3,
   "metadata": {},
   "outputs": [
    {
     "name": "stdout",
     "output_type": "stream",
     "text": [
      "python\n",
      "<class 'str'>\n",
      "programming  a\n",
      "<class 'str'>\n"
     ]
    }
   ],
   "source": [
    "s1 = 'python'\n",
    "s2  = 'programming '\n",
    "s3  = 'a'\n",
    "print(s1)\n",
    "print (type (s1))\n",
    "print(s2,s3)\n",
    "print(type(s2))\n",
    "\n"
   ]
  },
  {
   "cell_type": "markdown",
   "metadata": {},
   "source": [
    "# string slicing "
   ]
  },
  {
   "cell_type": "code",
   "execution_count": 15,
   "metadata": {},
   "outputs": [
    {
     "name": "stdout",
     "output_type": "stream",
     "text": [
      "n\n"
     ]
    }
   ],
   "source": [
    "s1 = \"python\"\n",
    "\n",
    "print((s1[len(s1)-1]))\n",
    "\n",
    "\n"
   ]
  },
  {
   "cell_type": "code",
   "execution_count": 30,
   "metadata": {},
   "outputs": [
    {
     "name": "stdout",
     "output_type": "stream",
     "text": [
      "python\n",
      "o\n",
      "tho\n",
      "ytho\n"
     ]
    }
   ],
   "source": [
    "a = \"python\"\n",
    "print(a[0:6])\n",
    "print(a[-2])\n",
    "print(a[2:5])\n",
    "print(a[1:-1])"
   ]
  },
  {
   "cell_type": "code",
   "execution_count": 31,
   "metadata": {},
   "outputs": [
    {
     "name": "stdout",
     "output_type": "stream",
     "text": [
      "nohtyp\n"
     ]
    }
   ],
   "source": [
    "print(a[-1::-1]) # reverse the string "
   ]
  },
  {
   "cell_type": "code",
   "execution_count": 33,
   "metadata": {},
   "outputs": [
    {
     "data": {
      "text/plain": [
       "'pto'"
      ]
     },
     "execution_count": 33,
     "metadata": {},
     "output_type": "execute_result"
    }
   ],
   "source": [
    "#access the characters in string alternative\n",
    "# python ---- pto\n",
    "a[0::2]\n"
   ]
  },
  {
   "cell_type": "code",
   "execution_count": 34,
   "metadata": {},
   "outputs": [
    {
     "name": "stdout",
     "output_type": "stream",
     "text": [
      "nhy\n"
     ]
    }
   ],
   "source": [
    "print (a[::-2]) #access alternatively "
   ]
  },
  {
   "cell_type": "code",
   "execution_count": 35,
   "metadata": {},
   "outputs": [
    {
     "name": "stdout",
     "output_type": "stream",
     "text": [
      "pto\n"
     ]
    }
   ],
   "source": [
    "print(a[::2]) #reverse alternatively "
   ]
  },
  {
   "cell_type": "markdown",
   "metadata": {},
   "source": [
    "# function with string operation "
   ]
  },
  {
   "cell_type": "code",
   "execution_count": 43,
   "metadata": {},
   "outputs": [
    {
     "name": "stdout",
     "output_type": "stream",
     "text": [
      "False\n",
      "False\n"
     ]
    }
   ],
   "source": [
    "#to check  the given string is palidrome or not \n",
    "def palidrome(s):\n",
    "    if s == s[-1::-1]:\n",
    "        return True \n",
    "    return False\n",
    "print(palidrome('python'))\n",
    "print(palidrome('gana '))\n"
   ]
  },
  {
   "cell_type": "code",
   "execution_count": 48,
   "metadata": {},
   "outputs": [
    {
     "name": "stdout",
     "output_type": "stream",
     "text": [
      "PTpython"
     ]
    }
   ],
   "source": [
    "#function  to print the upper case characters\n",
    "#example :python --- p t\n",
    "#\n",
    " \n",
    "    \n",
    "    # ascii\n",
    "    #A-Z : 65 -90\n",
    "    #a-z : 97 - 122\n",
    "    #0 -9  :  48 - 57 \n",
    "    #space : \n",
    "def printupper(s):\n",
    "    for i in range(len(s)):\n",
    "        if ord(s[i]) >= 65  and ord(s[i] )<= 90:\n",
    "            print (s[i], end='')\n",
    "    return \n",
    "printupper('PyThon') #P t \n",
    "\n",
    "def printlower(s):\n",
    "    for i in range(len(s)):\n",
    "        if ord(s[i])>=97 and ord (s[i]) <=122:\n",
    "            print (s[i], end='')\n",
    "    return \n",
    "printlower('python')"
   ]
  },
  {
   "cell_type": "code",
   "execution_count": 50,
   "metadata": {},
   "outputs": [
    {
     "name": "stdout",
     "output_type": "stream",
     "text": [
      "python"
     ]
    }
   ],
   "source": [
    "def printlower(s):\n",
    "    for i in range(len(s)):\n",
    "        if ord(s[i]) >=97 and ord (s[i]) <=122:\n",
    "            print (s[i], end='')\n",
    "    return \n",
    "printlower('python')"
   ]
  },
  {
   "cell_type": "code",
   "execution_count": null,
   "metadata": {},
   "outputs": [],
   "source": [
    "# function to return the output as \"amecount \" or \"programming \n",
    "# samecount---- lower and upper char have same count \n",
    "# programming : count of lower and upper case is not same \n",
    "\n",
    "\n",
    "\n",
    "# exaple #1 : python--- 3 p t O \n",
    "#                   ---3  y h n\n",
    "# output : samecount\n",
    "\n",
    "3 example#2 :python --- 2 P N\n",
    "                     ---4 Y T H o\n",
    "    # output  : programming \n",
    "    "
   ]
  },
  {
   "cell_type": "code",
   "execution_count": 54,
   "metadata": {},
   "outputs": [
    {
     "data": {
      "text/plain": [
       "False"
      ]
     },
     "execution_count": 54,
     "metadata": {},
     "output_type": "execute_result"
    }
   ],
   "source": [
    "def  samecount(s):\n",
    "    lower_count=0\n",
    "    upper_count=0\n",
    "    for i in range(len(s)):\n",
    "        if(ord(s[i])>=65) and (ord (s[i]) <= 90):\n",
    "            upper_count = upper_count+1\n",
    "        else:\n",
    "            lower_count=lower_count+1\n",
    "    if(lower_count == upper_count):\n",
    "        return True\n",
    "    else:\n",
    "        return False\n",
    "samecount(\"pyThon\")\n",
    "           "
   ]
  },
  {
   "cell_type": "code",
   "execution_count": 60,
   "metadata": {},
   "outputs": [
    {
     "name": "stdout",
     "output_type": "stream",
     "text": [
      "1 8 8 9 "
     ]
    }
   ],
   "source": [
    "#function to extract  the digit from the string \n",
    "#example \n",
    "#input :appli18cation89\n",
    "#output : 1 8 8 9\n",
    "def digit(s):\n",
    "    for i in range(len(s)):\n",
    "        if ord (s[i]) >= 48 and ord (s[i]) <= 57 :\n",
    "            print(s[i] , end=' ')\n",
    "    return\n",
    "digit('appli18cation89')\n",
    "    \n",
    "            "
   ]
  },
  {
   "cell_type": "code",
   "execution_count": 67,
   "metadata": {},
   "outputs": [
    {
     "data": {
      "text/plain": [
       "26"
      ]
     },
     "execution_count": 67,
     "metadata": {},
     "output_type": "execute_result"
    }
   ],
   "source": [
    "#function to the add the digits of the string \n",
    "#example #1\n",
    "#input : Appli18cation89\n",
    "# output :26 (1+8+8+9)\n",
    "def adddigit(s):\n",
    "    count=0\n",
    "    for i in range(len(s)):\n",
    "        if ord (s[i]) >= 48 and ord (s[i]) <= 57:\n",
    "            count=count+(ord (s[i])-48)\n",
    "    return count \n",
    "adddigit(\"appli18cation89\")"
   ]
  },
  {
   "cell_type": "code",
   "execution_count": 73,
   "metadata": {},
   "outputs": [
    {
     "ename": "UnboundLocalError",
     "evalue": "local variable 'cntspace' referenced before assignment",
     "output_type": "error",
     "traceback": [
      "\u001b[1;31m---------------------------------------------------------------------------\u001b[0m",
      "\u001b[1;31mUnboundLocalError\u001b[0m                         Traceback (most recent call last)",
      "\u001b[1;32m<ipython-input-73-9d449c91fafb>\u001b[0m in \u001b[0;36m<module>\u001b[1;34m\u001b[0m\n\u001b[0;32m     20\u001b[0m             \u001b[1;32mbreak\u001b[0m\u001b[1;33m\u001b[0m\u001b[1;33m\u001b[0m\u001b[0m\n\u001b[0;32m     21\u001b[0m     \u001b[1;32mreturn\u001b[0m\u001b[1;33m\u001b[0m\u001b[1;33m\u001b[0m\u001b[0m\n\u001b[1;32m---> 22\u001b[1;33m \u001b[0mword\u001b[0m\u001b[1;33m(\u001b[0m\u001b[1;34m'python made easy'\u001b[0m\u001b[1;33m)\u001b[0m\u001b[1;33m\u001b[0m\u001b[1;33m\u001b[0m\u001b[0m\n\u001b[0m\u001b[0;32m     23\u001b[0m \u001b[1;33m\u001b[0m\u001b[0m\n",
      "\u001b[1;32m<ipython-input-73-9d449c91fafb>\u001b[0m in \u001b[0;36mword\u001b[1;34m(s)\u001b[0m\n\u001b[0;32m     12\u001b[0m         \u001b[1;32mif\u001b[0m \u001b[0mord\u001b[0m\u001b[1;33m(\u001b[0m\u001b[0ms\u001b[0m\u001b[1;33m[\u001b[0m\u001b[0mi\u001b[0m\u001b[1;33m]\u001b[0m\u001b[1;33m)\u001b[0m \u001b[1;33m==\u001b[0m \u001b[1;36m32\u001b[0m \u001b[1;33m:\u001b[0m\u001b[1;33m\u001b[0m\u001b[1;33m\u001b[0m\u001b[0m\n\u001b[0;32m     13\u001b[0m             \u001b[0mcntspace\u001b[0m \u001b[1;33m+=\u001b[0m \u001b[1;36m1\u001b[0m\u001b[1;33m\u001b[0m\u001b[1;33m\u001b[0m\u001b[0m\n\u001b[1;32m---> 14\u001b[1;33m         \u001b[1;32mif\u001b[0m \u001b[0mcntspace\u001b[0m \u001b[1;33m==\u001b[0m \u001b[1;36m1\u001b[0m \u001b[1;33m:\u001b[0m\u001b[1;33m\u001b[0m\u001b[1;33m\u001b[0m\u001b[0m\n\u001b[0m\u001b[0;32m     15\u001b[0m             \u001b[1;32mif\u001b[0m \u001b[0mord\u001b[0m\u001b[1;33m(\u001b[0m\u001b[0ms\u001b[0m\u001b[1;33m[\u001b[0m\u001b[0mi\u001b[0m\u001b[1;33m]\u001b[0m\u001b[1;33m)\u001b[0m \u001b[1;33m>=\u001b[0m \u001b[1;36m65\u001b[0m \u001b[1;32mand\u001b[0m \u001b[0mord\u001b[0m \u001b[1;33m(\u001b[0m\u001b[0ms\u001b[0m\u001b[1;33m[\u001b[0m\u001b[0mi\u001b[0m\u001b[1;33m]\u001b[0m\u001b[1;33m)\u001b[0m \u001b[1;33m<=\u001b[0m \u001b[1;36m90\u001b[0m \u001b[1;33m:\u001b[0m\u001b[1;33m\u001b[0m\u001b[1;33m\u001b[0m\u001b[0m\n\u001b[0;32m     16\u001b[0m                 \u001b[0mprint\u001b[0m\u001b[1;33m(\u001b[0m\u001b[0ms\u001b[0m\u001b[1;33m[\u001b[0m\u001b[0mi\u001b[0m\u001b[1;33m]\u001b[0m \u001b[1;33m,\u001b[0m \u001b[0mend\u001b[0m \u001b[1;33m=\u001b[0m \u001b[1;34m''\u001b[0m\u001b[1;33m)\u001b[0m\u001b[1;33m\u001b[0m\u001b[1;33m\u001b[0m\u001b[0m\n",
      "\u001b[1;31mUnboundLocalError\u001b[0m: local variable 'cntspace' referenced before assignment"
     ]
    }
   ],
   "source": [
    "#function to 2nd word in upper case\n",
    "#example #1\n",
    "#input: python made easy \n",
    "#output  : MADE\n",
    "\n",
    "#example #2\n",
    "#input : learn python strings \n",
    "# output : PYTHON \n",
    "def word(s):  \n",
    "    cntsapce = 0 \n",
    "    for i in range (len(s)):\n",
    "        if ord(s[i]) == 32 :\n",
    "            cntspace += 1\n",
    "        if cntspace == 1 :\n",
    "            if ord(s[i]) >= 65 and ord (s[i]) <= 90 :\n",
    "                print(s[i] , end = '')\n",
    "            elif ord (s[i]) >= 97 and  ord([i]) <= 132 :\n",
    "                print(chr(dr(s[i])-32), end ='')\n",
    "        if cntspace == 2:\n",
    "            break\n",
    "    return\n",
    "word('python made easy')\n",
    "    "
   ]
  },
  {
   "cell_type": "markdown",
   "metadata": {},
   "source": [
    "#list \n",
    "- one of the  data struture  in python\n",
    "- data struture means to store, sort and search options\n",
    "- it's onecommon ds in python, the item odf lists seperated by comma and enclosed in squarfe  brackets []\n",
    "- example \n",
    " - list1 =[1,2.3,4,5]\n",
    " - list2 = [\"gitam \",1,2,3,\"vizag\"]\n",
    " "
   ]
  },
  {
   "cell_type": "code",
   "execution_count": 75,
   "metadata": {},
   "outputs": [
    {
     "name": "stdout",
     "output_type": "stream",
     "text": [
      "[1, 8, 18, 9, 2]\n",
      "1\n",
      "8\n",
      "[1, 8, 18, 9, 2]\n"
     ]
    }
   ],
   "source": [
    "li = [1,8 ,18 ,9,2]\n",
    "print(li) # will print the all the list items\n",
    "print(li[0]) # access the first itm for the list \n",
    "print(li[1])\n",
    "print(li[0:7])"
   ]
  },
  {
   "cell_type": "code",
   "execution_count": 87,
   "metadata": {},
   "outputs": [
    {
     "name": "stdout",
     "output_type": "stream",
     "text": [
      "['gitam', 18675, 2010, 1234, 'vizag']\n",
      "['gitam', 1234, 2010, 1234, 'vizag']\n"
     ]
    }
   ],
   "source": [
    "li = ['gitam' , 18675,2010,1234,'vizag']\n",
    "print(li)\n",
    "#update he list item with value using index\n",
    "li[1] = 1234\n",
    "print(li)"
   ]
  },
  {
   "cell_type": "code",
   "execution_count": 81,
   "metadata": {},
   "outputs": [
    {
     "name": "stdout",
     "output_type": "stream",
     "text": [
      "['gitam', 18675, 2010, 'vizag']\n"
     ]
    }
   ],
   "source": [
    "#delete the list items from the  list \n",
    "del li[3] \n",
    "print(li)\n"
   ]
  },
  {
   "cell_type": "code",
   "execution_count": null,
   "metadata": {},
   "outputs": [],
   "source": [
    "# basic list operations\n",
    "li =[1.2.3.4,5]\n"
   ]
  },
  {
   "cell_type": "code",
   "execution_count": 89,
   "metadata": {},
   "outputs": [
    {
     "name": "stdout",
     "output_type": "stream",
     "text": [
      "20\n",
      "1\n",
      "49\n",
      "9\n"
     ]
    }
   ],
   "source": [
    "# basic list  function\n",
    "li = [1,9 ,10 , 20, 9]\n",
    "print(max(li)) # max\n",
    "print(min(li)) #min\n",
    "print(sum(li)) #sum\n",
    "print (sum(li)//len(li)) #avg \n"
   ]
  },
  {
   "cell_type": "code",
   "execution_count": 92,
   "metadata": {},
   "outputs": [
    {
     "data": {
      "text/plain": [
       "2"
      ]
     },
     "execution_count": 92,
     "metadata": {},
     "output_type": "execute_result"
    }
   ],
   "source": [
    "# method of list \n",
    "li = [1,9 ,16,25,5]\n",
    "li.append(29) # add the new item at the end of the list \n",
    "li.insert(2,56) # add the new item at the specific index \n",
    "li.append (9)\n",
    "li.count(9) #returns the value how many object repeated \n",
    "li.index(56) # return the value at the index "
   ]
  },
  {
   "cell_type": "code",
   "execution_count": null,
   "metadata": {},
   "outputs": [],
   "source": [
    "#method of list object \n",
    "li.sort()\n",
    "li.pop() #removes the items from the specified index"
   ]
  },
  {
   "cell_type": "code",
   "execution_count": 93,
   "metadata": {},
   "outputs": [
    {
     "name": "stdout",
     "output_type": "stream",
     "text": [
      "45\n",
      "22\n"
     ]
    }
   ],
   "source": [
    "# fiunction to return the large number from the list \n",
    "def largenumber(li):\n",
    "    li.sort()\n",
    "    return li[-1]\n",
    "def  glarge (li,n):\n",
    "    li.sort()\n",
    "    return li[-n]\n",
    "li = [19,1,25,6,9,45,22]\n",
    "print (largenumber(li))\n",
    "print(glarge(li,3))"
   ]
  },
  {
   "cell_type": "code",
   "execution_count": 98,
   "metadata": {},
   "outputs": [
    {
     "name": "stdout",
     "output_type": "stream",
     "text": [
      "1\n",
      "19\n"
     ]
    }
   ],
   "source": [
    "#function to find least and generic least number from the list \n",
    "def leastnumber(li,):\n",
    "    li.sort()\n",
    "    return li[0]\n",
    "def genericleastnumber(li,n):\n",
    "    return li[n-1]\n",
    "li = [19,1,25,6,9,45,22]\n",
    "print(leastnumber(li))\n",
    "print(genericleastnumber(li,4))\n"
   ]
  },
  {
   "cell_type": "code",
   "execution_count": 104,
   "metadata": {},
   "outputs": [
    {
     "name": "stdout",
     "output_type": "stream",
     "text": [
      "1\n",
      "19\n"
     ]
    }
   ],
   "source": [
    "def genleastnumber(li,n):\n",
    "    li.sort()\n",
    "    return li[n-1]\n",
    "li = [19,1,25,6,9,45,22]\n",
    "print (genleastnumber(li,1))\n",
    "print(genleastnumber(li,4))"
   ]
  },
  {
   "cell_type": "markdown",
   "metadata": {},
   "source": [
    "# file handling in python\n",
    "- file - document which vcontainssome information and reside on permanent devices\n",
    "- different types of file --- txt, pdf,doc,ppf and ettc...\n",
    "- input -- keyboard \n",
    "- output-- file system"
   ]
  },
  {
   "cell_type": "code",
   "execution_count": 106,
   "metadata": {},
   "outputs": [
    {
     "name": "stdout",
     "output_type": "stream",
     "text": [
      "file is successfully created and data has inserted\n"
     ]
    }
   ],
   "source": [
    "#function to create file and write some data tothe file\n",
    "#mode--- w(it creates the file and write to thesome data)\n",
    "# if the file already exists with same name then it will rewrite the data\n",
    "def createfile(filename):\n",
    "    f= open(filename,'w')\n",
    "    for i in range (10):\n",
    "        f.write ('this is %d line \\n' %i)\n",
    "    print ('file is successfully created and data has inserted')\n",
    "    return\n",
    "createfile('data.txt')"
   ]
  },
  {
   "cell_type": "code",
   "execution_count": 107,
   "metadata": {},
   "outputs": [
    {
     "data": {
      "text/plain": [
       "'C:\\\\Users\\\\dell'"
      ]
     },
     "execution_count": 107,
     "metadata": {},
     "output_type": "execute_result"
    }
   ],
   "source": [
    "pwd"
   ]
  },
  {
   "cell_type": "code",
   "execution_count": 116,
   "metadata": {},
   "outputs": [
    {
     "name": "stdout",
     "output_type": "stream",
     "text": [
      "program completed succesfully\n"
     ]
    }
   ],
   "source": [
    "# mode---- a(if the file is not available is creates the )e\n",
    "#      .... if the file is already present with same name \n",
    "#   ------ append the data at end of the previous lin\n",
    "def appendmode (filename):\n",
    "    f = open (filename,'a')\n",
    "    f.write ('gitam vizag python training\\n')\n",
    "    f.write('python programming\\n')\n",
    "    print('program completed succesfully')\n",
    "    return\n",
    "appendmode('data.txt')"
   ]
  },
  {
   "cell_type": "code",
   "execution_count": 117,
   "metadata": {},
   "outputs": [
    {
     "name": "stdout",
     "output_type": "stream",
     "text": [
      "this is 0 line \n",
      "this is 1 line \n",
      "this is 2 line \n",
      "this is 3 line \n",
      "this is 4 line \n",
      "this is 5 line \n",
      "this is 6 line \n",
      "this is 7 line \n",
      "this is 8 line \n",
      "this is 9 line \n",
      "gitam vizag python trainingpython programming\n",
      "gitam vizag python training\n",
      "python programming\n",
      "\n"
     ]
    }
   ],
   "source": [
    "#function to read the file \n",
    "def readfiledata(filename):\n",
    "    f  = open (filename, 'r')\n",
    "    if f.mode == 'r':\n",
    "        a = f.read()\n",
    "        print(a)\n",
    "        f.close() \n",
    "        return\n",
    "readfiledata('data.txt')"
   ]
  },
  {
   "cell_type": "code",
   "execution_count": null,
   "metadata": {},
   "outputs": [],
   "source": [
    "#analaysis"
   ]
  },
  {
   "cell_type": "code",
   "execution_count": 118,
   "metadata": {},
   "outputs": [
    {
     "data": {
      "text/plain": [
       "51"
      ]
     },
     "execution_count": 118,
     "metadata": {},
     "output_type": "execute_result"
    }
   ],
   "source": [
    "# word count --- input file \n",
    "def wordcount(filename):\n",
    "    with open (filename ,'r') as  f:\n",
    "        if f.mode == 'r':\n",
    "            a = f.read()\n",
    "            li = a.split()\n",
    "        return len(li)\n",
    "wordcount('data.txt')\n",
    "            "
   ]
  },
  {
   "cell_type": "code",
   "execution_count": 123,
   "metadata": {},
   "outputs": [
    {
     "data": {
      "text/plain": [
       "10"
      ]
     },
     "execution_count": 123,
     "metadata": {},
     "output_type": "execute_result"
    }
   ],
   "source": [
    "# specific word count  from the file \n",
    "# example # 1\n",
    "#input --- this \n",
    "# output ... 10\n",
    "\n",
    "# example #2:\n",
    "# input -- gitam'\n",
    "# output ... 1\n",
    "def wordcount(filename,word):\n",
    "    with open (filename,'r') as f :\n",
    "        if f.mode == 'r':\n",
    "            a=f.read()\n",
    "            li = a.split()\n",
    "    return li.count(word)\n",
    "wordcount('data.txt','this')"
   ]
  },
  {
   "cell_type": "code",
   "execution_count": 132,
   "metadata": {},
   "outputs": [
    {
     "data": {
      "text/plain": [
       "253"
      ]
     },
     "execution_count": 132,
     "metadata": {},
     "output_type": "execute_result"
    }
   ],
   "source": [
    "# function  to find the character count from the input file \n",
    "def charcount(filename):\n",
    "    with open(filename,'r') as f:\n",
    "        if f.mode == 'r':\n",
    "            a = f.read()\n",
    "            li = list (a)\n",
    "    return len(li)\n",
    "charcount('data.txt')"
   ]
  },
  {
   "cell_type": "code",
   "execution_count": 125,
   "metadata": {},
   "outputs": [
    {
     "name": "stdout",
     "output_type": "stream",
     "text": [
      "['p', 'y', 't', 'h', 'o', 'n', 'p', 'r', 'o', 'f', 'r', 'a', 'm', 'm', 'i', 'n', 'g']\n"
     ]
    }
   ],
   "source": [
    "s = \"pythonproframming\"\n",
    "li=list(s)\n",
    "print(li)\n"
   ]
  },
  {
   "cell_type": "code",
   "execution_count": 133,
   "metadata": {},
   "outputs": [
    {
     "data": {
      "text/plain": [
       "14"
      ]
     },
     "execution_count": 133,
     "metadata": {},
     "output_type": "execute_result"
    }
   ],
   "source": [
    "# find no of lines  or rows in the given  input stream\n",
    "def findlinecount(filename):\n",
    "    with open (filename ,'r') as f:\n",
    "        if f .mode == 'r':\n",
    "            a =f.read()\n",
    "            li =a.split('\\n')\n",
    "    return len(li)\n",
    "findlinecount('data.txt')\n",
    "        "
   ]
  },
  {
   "cell_type": "code",
   "execution_count": null,
   "metadata": {},
   "outputs": [],
   "source": [
    "#function  to find the upper and lower case characters \n",
    "# from the input stream \n",
    "def casecount (filename):\n",
    "    wih open (filename,'r') as f:\n",
    "        if f.mode == 'r':\n",
    "            a= f.read()\n",
    "            li = list(a)\n",
    "        for  i in range (len(i)):\n",
    "            if ord(li[i]) >=65 and ord(li[1]) <= 90:\n",
    "                cntupper += 1\n",
    "            elif ord(li[i]) >= 97 and ord(li[i]) <= 122:\n",
    "                cntlower += 1\n",
    "            elif ord(li[i]) >=48 and ord (li[i]) <= 57:\n",
    "                cntdigit +=1\n",
    "            output ='upper case :{0} lower case : {1} digit :{2}'. format(cntupper,cntlower,cntdigit)\n",
    "                "
   ]
  },
  {
   "cell_type": "code",
   "execution_count": null,
   "metadata": {},
   "outputs": [],
   "source": []
  },
  {
   "cell_type": "code",
   "execution_count": null,
   "metadata": {},
   "outputs": [],
   "source": []
  },
  {
   "cell_type": "code",
   "execution_count": null,
   "metadata": {},
   "outputs": [],
   "source": []
  },
  {
   "cell_type": "code",
   "execution_count": null,
   "metadata": {},
   "outputs": [],
   "source": []
  },
  {
   "cell_type": "code",
   "execution_count": null,
   "metadata": {},
   "outputs": [],
   "source": []
  }
 ],
 "metadata": {
  "kernelspec": {
   "display_name": "Python 3",
   "language": "python",
   "name": "python3"
  },
  "language_info": {
   "codemirror_mode": {
    "name": "ipython",
    "version": 3
   },
   "file_extension": ".py",
   "mimetype": "text/x-python",
   "name": "python",
   "nbconvert_exporter": "python",
   "pygments_lexer": "ipython3",
   "version": "3.7.3"
  }
 },
 "nbformat": 4,
 "nbformat_minor": 2
}
