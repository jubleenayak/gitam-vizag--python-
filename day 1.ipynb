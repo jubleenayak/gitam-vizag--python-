{
 "cells": [
  {
   "cell_type": "markdown",
   "metadata": {},
   "source": [
    "# python programming with markdown \n",
    "## python programming with markdown\n",
    " ##    ......\n",
    "###### python programming with markdown\n",
    "\n",
    "\n"
   ]
  },
  {
   "cell_type": "markdown",
   "metadata": {},
   "source": [
    "#  python programming\n",
    " * **point 1**     (bold)\n",
    " * *point 11*      (italic)\n",
    " *  ***pont 2*** \n",
    " - point 1\n",
    "  - point1.1\n",
    "    \n",
    "    \n",
    "    \n"
   ]
  },
  {
   "cell_type": "markdown",
   "metadata": {},
   "source": [
    "###  adding the linking to markdown \n",
    " - google site-\n",
    " +++++++++++\n"
   ]
  },
  {
   "cell_type": "code",
   "execution_count": 2,
   "metadata": {},
   "outputs": [
    {
     "ename": "IndentationError",
     "evalue": "unexpected indent (<ipython-input-2-3cc7d1394285>, line 2)",
     "output_type": "error",
     "traceback": [
      "\u001b[1;36m  File \u001b[1;32m\"<ipython-input-2-3cc7d1394285>\"\u001b[1;36m, line \u001b[1;32m2\u001b[0m\n\u001b[1;33m    - python version 3.7\u001b[0m\n\u001b[1;37m    ^\u001b[0m\n\u001b[1;31mIndentationError\u001b[0m\u001b[1;31m:\u001b[0m unexpected indent\n"
     ]
    }
   ],
   "source": [
    "### python Programming\n",
    "  - python version 3.7\n",
    "    - function programing\n",
    "    -   +object oriented programing\n",
    "    - scripting programing\n",
    "    "
   ]
  },
  {
   "cell_type": "markdown",
   "metadata": {},
   "source": [
    "### python Programming\n",
    "  -  python version 3.7\n",
    "    - function programing \n",
    "\n",
    "    - object oriented programing\n",
    "    - scripting programing"
   ]
  },
  {
   "cell_type": "code",
   "execution_count": 4,
   "metadata": {},
   "outputs": [
    {
     "name": "stdout",
     "output_type": "stream",
     "text": [
      "hello gitam \n"
     ]
    }
   ],
   "source": [
    "print ('hello gitam ')\n"
   ]
  },
  {
   "cell_type": "code",
   "execution_count": 6,
   "metadata": {},
   "outputs": [
    {
     "name": "stdout",
     "output_type": "stream",
     "text": [
      "hello,gitam\n",
      "vizag\n"
     ]
    }
   ],
   "source": [
    "print ('hello,gitam')\n",
    "print ('vizag') "
   ]
  },
  {
   "cell_type": "markdown",
   "metadata": {},
   "source": [
    "### Data typesand Data typr conversion  \n",
    "- int\n",
    "- float \n",
    "- string \n"
   ]
  },
  {
   "cell_type": "code",
   "execution_count": 9,
   "metadata": {},
   "outputs": [
    {
     "name": "stdout",
     "output_type": "stream",
     "text": [
      "13.6\n",
      "100\n",
      " python programing\n",
      "a\n",
      "python programing\n",
      "<class 'float'>\n",
      "<class 'int'>\n",
      "<class 'str'>\n",
      "<class 'str'>\n",
      "<class 'str'>\n"
     ]
    }
   ],
   "source": [
    "a =100\n",
    "s =  ' python programing'\n",
    "s1 = 'a'\n",
    "s2 =\"python programing\"\n",
    "p=13.6\n",
    "print(p)\n",
    "print(a)\n",
    "print (s)\n",
    "print(s1)\n",
    "print (s2)\n",
    "print(type(p))\n",
    "print (type (a))\n",
    "print (type (s))\n",
    "print (type (s1))\n",
    "print (type (s2))\n",
    "\n"
   ]
  },
  {
   "cell_type": "markdown",
   "metadata": {},
   "source": [
    "# data type conversions\n",
    "- int()\n",
    "- float ()\n",
    "-  str ()\n"
   ]
  },
  {
   "cell_type": "code",
   "execution_count": 14,
   "metadata": {},
   "outputs": [
    {
     "name": "stdout",
     "output_type": "stream",
     "text": [
      "100.123<class 'str'>\n",
      "100.123<class 'str'>\n",
      "100.123<class 'float'>\n",
      "100<class 'int'>\n"
     ]
    }
   ],
   "source": [
    "    a= \"100.123\"\n",
    "    print (a,end=\"\")\n",
    "    print (type(a))\n",
    "    s1= str(a)\n",
    "    print (s1,end=\"\")\n",
    "    print (type (s1))\n",
    "    a1= float (a)\n",
    "    print (a1,end=\"\")\n",
    "    print (type (a1))\n",
    "    a2 =int (a1)\n",
    "    print (a2,end= \"\")\n",
    "    print (type (a2))\n",
    "    \n",
    "    "
   ]
  },
  {
   "cell_type": "code",
   "execution_count": 15,
   "metadata": {},
   "outputs": [
    {
     "name": "stdout",
     "output_type": "stream",
     "text": [
      "4\n"
     ]
    }
   ],
   "source": [
    "# digit count of a number \n",
    "a= 1234\n",
    "print (len(str(a)))\n",
    "\n",
    "\n",
    "\n"
   ]
  },
  {
   "cell_type": "markdown",
   "metadata": {},
   "source": [
    "# input () function \n",
    "- read the  input to the python program \n",
    "- reads the input in terms of string format \n"
   ]
  },
  {
   "cell_type": "code",
   "execution_count": 16,
   "metadata": {},
   "outputs": [
    {
     "name": "stdout",
     "output_type": "stream",
     "text": [
      "enter your name vidya \n",
      "vidya  <class 'str'>\n"
     ]
    }
   ],
   "source": [
    "s1 =input ('enter your name ')\n",
    "\n",
    "print (s1, type (s1))\n"
   ]
  },
  {
   "cell_type": "code",
   "execution_count": 1,
   "metadata": {},
   "outputs": [
    {
     "name": "stdout",
     "output_type": "stream",
     "text": [
      "enter the number100\n",
      "100 <class 'int'>\n"
     ]
    }
   ],
   "source": [
    "a1 = int(input('enter the number'))\n",
    "print(a1,type(a1))\n",
    "\n"
   ]
  },
  {
   "cell_type": "markdown",
   "metadata": {},
   "source": [
    "### operators \n",
    "- +\n",
    "- -\n",
    "- *\n",
    "- /\n",
    "- %\n",
    "- #\n"
   ]
  },
  {
   "cell_type": "code",
   "execution_count": 7,
   "metadata": {},
   "outputs": [
    {
     "name": "stdout",
     "output_type": "stream",
     "text": [
      "3.3333333333333335\n",
      "3\n",
      "8\n"
     ]
    }
   ],
   "source": [
    "print (10/3)\n",
    "print (10//3)\n",
    "print (2**3)"
   ]
  },
  {
   "cell_type": "code",
   "execution_count": 8,
   "metadata": {},
   "outputs": [
    {
     "name": "stdout",
     "output_type": "stream",
     "text": [
      "8.0\n"
     ]
    }
   ],
   "source": [
    "# preceding levels of operators \n",
    "# power, division , addition  \n",
    "x= 1+2**3/4+5\n",
    "print(x)\n"
   ]
  },
  {
   "cell_type": "markdown",
   "metadata": {},
   "source": [
    "### logical operators \n",
    "- and\n",
    "- or \n",
    "- not "
   ]
  },
  {
   "cell_type": "code",
   "execution_count": 12,
   "metadata": {},
   "outputs": [
    {
     "name": "stdout",
     "output_type": "stream",
     "text": [
      "True <class 'bool'>\n",
      "True <class 'bool'>\n"
     ]
    }
   ],
   "source": [
    "a = 10 \n",
    "b =(a > 9) and ( a >= 10)\n",
    "print (b, type(b))\n",
    "b = (a > 9) or (a > 100) \n",
    "print (b, type(b)) "
   ]
  },
  {
   "cell_type": "markdown",
   "metadata": {},
   "source": [
    "## control flow statements\n",
    "- conditional statements\n",
    "   -  if-else\n",
    "-  looping  statements \n",
    "     - while \n",
    "    - for"
   ]
  },
  {
   "cell_type": "code",
   "execution_count": 14,
   "metadata": {},
   "outputs": [
    {
     "name": "stdout",
     "output_type": "stream",
     "text": [
      " enter the number 2\n",
      "even \n"
     ]
    }
   ],
   "source": [
    "# read a number as input \n",
    "# print the  output as even or odd \n",
    "a1 = int(input (\" enter the number \"))\n",
    "if a1%2 == 0 :\n",
    "    print (\"even \")\n",
    "else:\n",
    "    print (\"odd\")\n",
    "    \n",
    "    "
   ]
  },
  {
   "cell_type": "code",
   "execution_count": 16,
   "metadata": {},
   "outputs": [
    {
     "name": "stdout",
     "output_type": "stream",
     "text": [
      " enter the number 54\n",
      "positive number \n"
     ]
    }
   ],
   "source": [
    "#read anumber as input \n",
    "# print tehe output as zero,positive number or negative number \n",
    "a2= int(input (\" enter the number \"))\n",
    "if a2 == 0:\n",
    "\n",
    "    print (\"zero\")\n",
    "elif  a2 > 0 :\n",
    "    print (\"positive number \")\n",
    "elif a2 < 0 :\n",
    "    print (\"negative number \") \n",
    "\n"
   ]
  },
  {
   "cell_type": "code",
   "execution_count": null,
   "metadata": {},
   "outputs": [],
   "source": []
  },
  {
   "cell_type": "code",
   "execution_count": null,
   "metadata": {},
   "outputs": [],
   "source": []
  },
  {
   "cell_type": "code",
   "execution_count": null,
   "metadata": {},
   "outputs": [],
   "source": []
  },
  {
   "cell_type": "code",
   "execution_count": null,
   "metadata": {},
   "outputs": [],
   "source": []
  }
 ],
 "metadata": {
  "kernelspec": {
   "display_name": "Python 3",
   "language": "python",
   "name": "python3"
  },
  "language_info": {
   "codemirror_mode": {
    "name": "ipython",
    "version": 3
   },
   "file_extension": ".py",
   "mimetype": "text/x-python",
   "name": "python",
   "nbconvert_exporter": "python",
   "pygments_lexer": "ipython3",
   "version": "3.7.3"
  }
 },
 "nbformat": 4,
 "nbformat_minor": 2
}
