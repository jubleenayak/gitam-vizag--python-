{
 "cells": [
  {
   "cell_type": "markdown",
   "metadata": {},
   "source": [
    "# while loop\n",
    "+\n"
   ]
  },
  {
   "cell_type": "code",
   "execution_count": 1,
   "metadata": {},
   "outputs": [
    {
     "name": "stdout",
     "output_type": "stream",
     "text": [
      "enter the numbers:10\n",
      "1 2 3 4 5 6 7 8 9 10 "
     ]
    }
   ],
   "source": [
    "#print numbers from 1to n\n",
    "#input:10\n",
    "#output: 1,2,3,4,56,.....10\n",
    "\n",
    "n=int(input(\"enter the numbers:\"))\n",
    "i=1\n",
    "while  i<= n:\n",
    "    print (i, end= \" \")\n",
    "    i=i+1\n"
   ]
  },
  {
   "cell_type": "code",
   "execution_count": null,
   "metadata": {},
   "outputs": [],
   "source": [
    "# read number as input \n",
    "# output as only even numbers sum from 1to n\n",
    "\n",
    "# input:10\n",
    "#output: 30(2+4+6+8+10)\n",
    "n= int(input(\"\"))\n",
    "i= 1\n",
    "s=0\n",
    "while  i<< n:\n",
    "    if i % 2==0:\n",
    "        s= s+i\n",
    "    i=i+1\n",
    "print(i)\n",
    "\n",
    "        \n"
   ]
  },
  {
   "cell_type": "code",
   "execution_count": 6,
   "metadata": {},
   "outputs": [
    {
     "name": "stdout",
     "output_type": "stream",
     "text": [
      "123\n",
      "321"
     ]
    }
   ],
   "source": [
    "# read a number as input \n",
    "# output has be digits of the number\n",
    "\n",
    "#input:123\n",
    "#output : 3 2 1\n",
    "n = int(input(''))\n",
    "while n !=0 :\n",
    "    print (n%10,end='')\n",
    "    n = n//10\n",
    "        \n"
   ]
  },
  {
   "cell_type": "markdown",
   "metadata": {},
   "source": [
    "### functional programming \n",
    " - simple \n",
    " - easy understand \n",
    " -  better \n",
    " _  \n"
   ]
  },
  {
   "cell_type": "code",
   "execution_count": null,
   "metadata": {},
   "outputs": [],
   "source": [
    "def nameofthefuncttion(parameters):\n",
    "    statements\n",
    "return \n",
    "\n",
    "\n",
    "\n",
    "\n",
    "\n",
    "\n",
    "\n",
    "\n",
    "\n",
    "\n",
    "\n",
    "\n",
    "\n",
    "\n",
    "\n",
    "\n",
    "\n",
    "\n",
    "\n"
   ]
  },
  {
   "cell_type": "code",
   "execution_count": 25,
   "metadata": {},
   "outputs": [
    {
     "data": {
      "text/plain": [
       "6"
      ]
     },
     "execution_count": 25,
     "metadata": {},
     "output_type": "execute_result"
    }
   ],
   "source": [
    "# read a number \n",
    "#print the even  digit sum from the number \n",
    "\n",
    "# input: 1234\n",
    "#output : 6(2+4)\n",
    "\n",
    "def evenDigitSum(n):\n",
    "    s=0\n",
    "    while n != 0:\n",
    "        r=n% 10\n",
    "        if r % 2 == 0:\n",
    "            s = s + r\n",
    "        n = n // 10\n",
    "    return s\n",
    "evenDigitSum(1234)\n",
    "\n",
    "\n",
    "\n",
    "\n",
    "\n",
    "\n",
    "    "
   ]
  },
  {
   "cell_type": "code",
   "execution_count": 8,
   "metadata": {},
   "outputs": [
    {
     "data": {
      "text/plain": [
       "9"
      ]
     },
     "execution_count": 8,
     "metadata": {},
     "output_type": "execute_result"
    }
   ],
   "source": [
    "#input :19535\n",
    "#output : 9(large digit of the given number)\n",
    "#functional programming\n",
    "\n",
    "def largedigit(n):\n",
    "        large=0\n",
    "        while n > 0:\n",
    "            r= n % 10\n",
    "            if large < r :\n",
    "                large = r \n",
    "            n = int(n / 10)\n",
    "        return large \n",
    "\n",
    "largedigit(194565)\n",
    "\n",
    "\n",
    "\n",
    "\n",
    "\n",
    "\n",
    "\n"
   ]
  },
  {
   "cell_type": "code",
   "execution_count": 9,
   "metadata": {},
   "outputs": [
    {
     "name": "stdout",
     "output_type": "stream",
     "text": [
      "no\n",
      "no\n"
     ]
    }
   ],
   "source": [
    "def  factorial(n):\n",
    "    fact= 1\n",
    "    i=1\n",
    "    while i <= n:\n",
    "        fact = fact*i\n",
    "        i=i+1\n",
    "    return fact \n",
    "def digitfactsum(n):\n",
    "    s=0\n",
    "    buffer = n\n",
    "    while n != 0:\n",
    "        r = n % 10\n",
    "        s != factorial(r)\n",
    "        n = n // 10\n",
    "    if buffer == s:\n",
    "        return \"yes\"\n",
    "    else:\n",
    "        return \"no\"\n",
    "    return\n",
    "print(digitfactsum(145)) #yes\n",
    "print(digitfactsum(123)) #no\n",
    "    "
   ]
  },
  {
   "cell_type": "code",
   "execution_count": 7,
   "metadata": {},
   "outputs": [
    {
     "name": "stdout",
     "output_type": "stream",
     "text": [
      "palidrome\n",
      "not a palidrome\n"
     ]
    }
   ],
   "source": [
    "#read a number  as input \n",
    "#output as palindrome   or not a palidrome \n",
    "#palidrome--- a number after reversing  is  same as the original number \n",
    "\n",
    "#input: 121\n",
    "#output:not a paloidrome\n",
    "\n",
    "def ispalidrome (n):\n",
    "    rev = 0\n",
    "    temp = n\n",
    "    while (n > 0):\n",
    "        rev = rev * 10 + (n%10)\n",
    "        n = n // 10\n",
    "    if temp == rev:\n",
    "        return \"palidrome\"\n",
    "    return \"not a palidrome\"\n",
    "print(ispalidrome(121)) # palidrome\n",
    "print(ispalidrome(123)) # not a palidrome "
   ]
  },
  {
   "cell_type": "code",
   "execution_count": 11,
   "metadata": {},
   "outputs": [
    {
     "name": "stdout",
     "output_type": "stream",
     "text": [
      "11 12 13 14 15 16 17 18 19 20 21 22 23 24 25 "
     ]
    }
   ],
   "source": [
    "#function -\n",
    "def  printseries (lb,ub):\n",
    "    for x in range (lb,ub+1):\n",
    "        print(x, end = ' ')\n",
    "    return\n",
    "printseries(11,25)"
   ]
  },
  {
   "cell_type": "code",
   "execution_count": 13,
   "metadata": {},
   "outputs": [
    {
     "name": "stdout",
     "output_type": "stream",
     "text": [
      "500"
     ]
    }
   ],
   "source": [
    "#function to print the alternate numbers\n",
    "#[50t0,200]-- 500,502,504,506,510,...,520\n",
    "#[100,140]---100,104,108,112,116...140\n",
    "def alternatenumbers(lb,ub):\n",
    "    for x in range (lb,ub+1,4):\n",
    "        print(x, end= '- ')\n",
    "        return\n",
    "alternatenumbers(500,520)\n",
    "        "
   ]
  }
 ],
 "metadata": {
  "kernelspec": {
   "display_name": "Python 3",
   "language": "python",
   "name": "python3"
  },
  "language_info": {
   "codemirror_mode": {
    "name": "ipython",
    "version": 3
   },
   "file_extension": ".py",
   "mimetype": "text/x-python",
   "name": "python",
   "nbconvert_exporter": "python",
   "pygments_lexer": "ipython3",
   "version": "3.7.3"
  }
 },
 "nbformat": 4,
 "nbformat_minor": 2
}
